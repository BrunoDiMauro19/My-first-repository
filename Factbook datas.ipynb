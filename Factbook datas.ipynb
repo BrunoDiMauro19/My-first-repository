{
 "cells": [
  {
   "cell_type": "code",
   "execution_count": 124,
   "metadata": {},
   "outputs": [],
   "source": [
    "# Importing libraries and creating a connection to the SQL database we dowloaded from 538.com\n",
    "\n",
    "import sqlite3\n",
    "import pandas as pd\n",
    "conn=sqlite3.connect('factbook.db')"
   ]
  },
  {
   "cell_type": "code",
   "execution_count": 125,
   "metadata": {},
   "outputs": [
    {
     "data": {
      "text/html": [
       "<div>\n",
       "<style scoped>\n",
       "    .dataframe tbody tr th:only-of-type {\n",
       "        vertical-align: middle;\n",
       "    }\n",
       "\n",
       "    .dataframe tbody tr th {\n",
       "        vertical-align: top;\n",
       "    }\n",
       "\n",
       "    .dataframe thead th {\n",
       "        text-align: right;\n",
       "    }\n",
       "</style>\n",
       "<table border=\"1\" class=\"dataframe\">\n",
       "  <thead>\n",
       "    <tr style=\"text-align: right;\">\n",
       "      <th></th>\n",
       "      <th>type</th>\n",
       "      <th>name</th>\n",
       "      <th>tbl_name</th>\n",
       "      <th>rootpage</th>\n",
       "      <th>sql</th>\n",
       "    </tr>\n",
       "  </thead>\n",
       "  <tbody>\n",
       "    <tr>\n",
       "      <th>0</th>\n",
       "      <td>table</td>\n",
       "      <td>facts</td>\n",
       "      <td>facts</td>\n",
       "      <td>2</td>\n",
       "      <td>CREATE TABLE \"facts\" (\"id\" INTEGER PRIMARY KEY...</td>\n",
       "    </tr>\n",
       "    <tr>\n",
       "      <th>1</th>\n",
       "      <td>table</td>\n",
       "      <td>sqlite_sequence</td>\n",
       "      <td>sqlite_sequence</td>\n",
       "      <td>3</td>\n",
       "      <td>CREATE TABLE sqlite_sequence(name,seq)</td>\n",
       "    </tr>\n",
       "  </tbody>\n",
       "</table>\n",
       "</div>"
      ],
      "text/plain": [
       "    type             name         tbl_name  rootpage  \\\n",
       "0  table            facts            facts         2   \n",
       "1  table  sqlite_sequence  sqlite_sequence         3   \n",
       "\n",
       "                                                 sql  \n",
       "0  CREATE TABLE \"facts\" (\"id\" INTEGER PRIMARY KEY...  \n",
       "1             CREATE TABLE sqlite_sequence(name,seq)  "
      ]
     },
     "execution_count": 125,
     "metadata": {},
     "output_type": "execute_result"
    }
   ],
   "source": [
    "#Analyzing the database and asking pandas to show all the tables within it\n",
    "\n",
    "q=\"select * from sqlite_master where type='table';\"\n",
    "pd.read_sql_query(q,conn)"
   ]
  },
  {
   "cell_type": "code",
   "execution_count": 140,
   "metadata": {},
   "outputs": [
    {
     "data": {
      "text/html": [
       "<div>\n",
       "<style scoped>\n",
       "    .dataframe tbody tr th:only-of-type {\n",
       "        vertical-align: middle;\n",
       "    }\n",
       "\n",
       "    .dataframe tbody tr th {\n",
       "        vertical-align: top;\n",
       "    }\n",
       "\n",
       "    .dataframe thead th {\n",
       "        text-align: right;\n",
       "    }\n",
       "</style>\n",
       "<table border=\"1\" class=\"dataframe\">\n",
       "  <thead>\n",
       "    <tr style=\"text-align: right;\">\n",
       "      <th></th>\n",
       "      <th>0</th>\n",
       "      <th>1</th>\n",
       "      <th>2</th>\n",
       "      <th>3</th>\n",
       "      <th>4</th>\n",
       "      <th>5</th>\n",
       "      <th>6</th>\n",
       "      <th>7</th>\n",
       "      <th>8</th>\n",
       "      <th>9</th>\n",
       "      <th>10</th>\n",
       "      <th>11</th>\n",
       "      <th>12</th>\n",
       "    </tr>\n",
       "  </thead>\n",
       "  <tbody>\n",
       "    <tr>\n",
       "      <th>0</th>\n",
       "      <td>1</td>\n",
       "      <td>af</td>\n",
       "      <td>Afghanistan</td>\n",
       "      <td>652230</td>\n",
       "      <td>652230</td>\n",
       "      <td>0</td>\n",
       "      <td>32564342</td>\n",
       "      <td>2.32</td>\n",
       "      <td>38.57</td>\n",
       "      <td>13.89</td>\n",
       "      <td>1.51</td>\n",
       "      <td>2015-11-01 13:19:49.461734</td>\n",
       "      <td>2015-11-01 13:19:49.461734</td>\n",
       "    </tr>\n",
       "    <tr>\n",
       "      <th>1</th>\n",
       "      <td>2</td>\n",
       "      <td>al</td>\n",
       "      <td>Albania</td>\n",
       "      <td>28748</td>\n",
       "      <td>27398</td>\n",
       "      <td>1350</td>\n",
       "      <td>3029278</td>\n",
       "      <td>0.30</td>\n",
       "      <td>12.92</td>\n",
       "      <td>6.58</td>\n",
       "      <td>3.30</td>\n",
       "      <td>2015-11-01 13:19:54.431082</td>\n",
       "      <td>2015-11-01 13:19:54.431082</td>\n",
       "    </tr>\n",
       "    <tr>\n",
       "      <th>2</th>\n",
       "      <td>3</td>\n",
       "      <td>ag</td>\n",
       "      <td>Algeria</td>\n",
       "      <td>2381741</td>\n",
       "      <td>2381741</td>\n",
       "      <td>0</td>\n",
       "      <td>39542166</td>\n",
       "      <td>1.84</td>\n",
       "      <td>23.67</td>\n",
       "      <td>4.31</td>\n",
       "      <td>0.92</td>\n",
       "      <td>2015-11-01 13:19:59.961286</td>\n",
       "      <td>2015-11-01 13:19:59.961286</td>\n",
       "    </tr>\n",
       "    <tr>\n",
       "      <th>3</th>\n",
       "      <td>4</td>\n",
       "      <td>an</td>\n",
       "      <td>Andorra</td>\n",
       "      <td>468</td>\n",
       "      <td>468</td>\n",
       "      <td>0</td>\n",
       "      <td>85580</td>\n",
       "      <td>0.12</td>\n",
       "      <td>8.13</td>\n",
       "      <td>6.96</td>\n",
       "      <td>0.00</td>\n",
       "      <td>2015-11-01 13:20:03.659945</td>\n",
       "      <td>2015-11-01 13:20:03.659945</td>\n",
       "    </tr>\n",
       "    <tr>\n",
       "      <th>4</th>\n",
       "      <td>5</td>\n",
       "      <td>ao</td>\n",
       "      <td>Angola</td>\n",
       "      <td>1246700</td>\n",
       "      <td>1246700</td>\n",
       "      <td>0</td>\n",
       "      <td>19625353</td>\n",
       "      <td>2.78</td>\n",
       "      <td>38.78</td>\n",
       "      <td>11.49</td>\n",
       "      <td>0.46</td>\n",
       "      <td>2015-11-01 13:20:08.625072</td>\n",
       "      <td>2015-11-01 13:20:08.625072</td>\n",
       "    </tr>\n",
       "  </tbody>\n",
       "</table>\n",
       "</div>"
      ],
      "text/plain": [
       "   0   1            2        3        4     5         6     7      8      9   \\\n",
       "0   1  af  Afghanistan   652230   652230     0  32564342  2.32  38.57  13.89   \n",
       "1   2  al      Albania    28748    27398  1350   3029278  0.30  12.92   6.58   \n",
       "2   3  ag      Algeria  2381741  2381741     0  39542166  1.84  23.67   4.31   \n",
       "3   4  an      Andorra      468      468     0     85580  0.12   8.13   6.96   \n",
       "4   5  ao       Angola  1246700  1246700     0  19625353  2.78  38.78  11.49   \n",
       "\n",
       "     10                          11                          12  \n",
       "0  1.51  2015-11-01 13:19:49.461734  2015-11-01 13:19:49.461734  \n",
       "1  3.30  2015-11-01 13:19:54.431082  2015-11-01 13:19:54.431082  \n",
       "2  0.92  2015-11-01 13:19:59.961286  2015-11-01 13:19:59.961286  \n",
       "3  0.00  2015-11-01 13:20:03.659945  2015-11-01 13:20:03.659945  \n",
       "4  0.46  2015-11-01 13:20:08.625072  2015-11-01 13:20:08.625072  "
      ]
     },
     "execution_count": 140,
     "metadata": {},
     "output_type": "execute_result"
    }
   ],
   "source": [
    "#Writing a query to show the first 5 rows of the table 'facts'\n",
    "\n",
    "query=\"select * from facts limit 5;\"\n",
    "five_rows=conn.execute(query).fetchall()\n",
    "five_rows"
   ]
  },
  {
   "cell_type": "code",
   "execution_count": 127,
   "metadata": {},
   "outputs": [
    {
     "data": {
      "text/html": [
       "<div>\n",
       "<style scoped>\n",
       "    .dataframe tbody tr th:only-of-type {\n",
       "        vertical-align: middle;\n",
       "    }\n",
       "\n",
       "    .dataframe tbody tr th {\n",
       "        vertical-align: top;\n",
       "    }\n",
       "\n",
       "    .dataframe thead th {\n",
       "        text-align: right;\n",
       "    }\n",
       "</style>\n",
       "<table border=\"1\" class=\"dataframe\">\n",
       "  <thead>\n",
       "    <tr style=\"text-align: right;\">\n",
       "      <th></th>\n",
       "      <th>Min pop</th>\n",
       "      <th>Max pop</th>\n",
       "      <th>Min growth</th>\n",
       "      <th>Max growth</th>\n",
       "      <th>MIN(birth_rate)</th>\n",
       "      <th>MAX(birth_rate)</th>\n",
       "      <th>MIN(death_rate)</th>\n",
       "      <th>MAX(death_rate)</th>\n",
       "    </tr>\n",
       "  </thead>\n",
       "  <tbody>\n",
       "    <tr>\n",
       "      <th>0</th>\n",
       "      <td>48</td>\n",
       "      <td>1367485388</td>\n",
       "      <td>0.0</td>\n",
       "      <td>4.02</td>\n",
       "      <td>6.65</td>\n",
       "      <td>45.45</td>\n",
       "      <td>1.53</td>\n",
       "      <td>14.89</td>\n",
       "    </tr>\n",
       "  </tbody>\n",
       "</table>\n",
       "</div>"
      ],
      "text/plain": [
       "   Min pop     Max pop  Min growth  Max growth  MIN(birth_rate)  \\\n",
       "0       48  1367485388         0.0        4.02             6.65   \n",
       "\n",
       "   MAX(birth_rate)  MIN(death_rate)  MAX(death_rate)  \n",
       "0            45.45             1.53            14.89  "
      ]
     },
     "execution_count": 127,
     "metadata": {},
     "output_type": "execute_result"
    }
   ],
   "source": [
    "query2='select MIN(population), MAX(population), MIN(population_growth), MAX(population_growth), MIN(birth_rate), MAX(birth_rate), MIN(death_rate), MAX(death_rate) from facts where (population>0 and population<7256490011);'\n",
    "min_max=conn.execute(query2).fetchall()\n",
    "min_max=pd.DataFrame(min_max)\n",
    "min_max.columns=['Min pop','Max pop','Min growth', 'Max growth', 'MIN(birth_rate)', 'MAX(birth_rate)', 'MIN(death_rate)', 'MAX(death_rate)']\n",
    "min_max"
   ]
  },
  {
   "cell_type": "code",
   "execution_count": 128,
   "metadata": {},
   "outputs": [
    {
     "name": "stdout",
     "output_type": "stream",
     "text": [
      "[('Antarctica',)] [('World',)]\n"
     ]
    }
   ],
   "source": [
    "query3='select name from facts where population=0;'\n",
    "query4='select name from facts where population=7256490011;'\n",
    "no_pop=conn.execute(query3).fetchall()\n",
    "max_pop=conn.execute(query4).fetchall()\n",
    "print(no_pop, max_pop)"
   ]
  },
  {
   "cell_type": "markdown",
   "metadata": {},
   "source": [
    "So the table 'facts' in the factbook.db database is considering, among all the nations of the world, also the Antarctica that clearly has no inhabitant and the whole World, summing up all the inhabitants of the different countries. That's why its total corresponds to the total amount of people in the planet."
   ]
  },
  {
   "cell_type": "code",
   "execution_count": 182,
   "metadata": {},
   "outputs": [
    {
     "name": "stdout",
     "output_type": "stream",
     "text": [
      "name                  0\n",
      "population            0\n",
      "population_growth     5\n",
      "birth_rate           13\n",
      "death_rate           13\n",
      "area_land             7\n",
      "area_water            9\n",
      "density               7\n",
      "ratio_land_water     11\n",
      "dtype: int64\n"
     ]
    },
    {
     "data": {
      "text/html": [
       "<div>\n",
       "<style scoped>\n",
       "    .dataframe tbody tr th:only-of-type {\n",
       "        vertical-align: middle;\n",
       "    }\n",
       "\n",
       "    .dataframe tbody tr th {\n",
       "        vertical-align: top;\n",
       "    }\n",
       "\n",
       "    .dataframe thead th {\n",
       "        text-align: right;\n",
       "    }\n",
       "</style>\n",
       "<table border=\"1\" class=\"dataframe\">\n",
       "  <thead>\n",
       "    <tr style=\"text-align: right;\">\n",
       "      <th></th>\n",
       "      <th>name</th>\n",
       "      <th>population</th>\n",
       "      <th>population_growth</th>\n",
       "      <th>birth_rate</th>\n",
       "      <th>death_rate</th>\n",
       "      <th>area_land</th>\n",
       "      <th>area_water</th>\n",
       "      <th>density</th>\n",
       "      <th>ratio_land_water</th>\n",
       "    </tr>\n",
       "  </thead>\n",
       "  <tbody>\n",
       "    <tr>\n",
       "      <th>0</th>\n",
       "      <td>Afghanistan</td>\n",
       "      <td>32564342</td>\n",
       "      <td>2.32</td>\n",
       "      <td>38.57</td>\n",
       "      <td>13.89</td>\n",
       "      <td>652230.0</td>\n",
       "      <td>0.0</td>\n",
       "      <td>49.927697</td>\n",
       "      <td>0.000000</td>\n",
       "    </tr>\n",
       "    <tr>\n",
       "      <th>1</th>\n",
       "      <td>Albania</td>\n",
       "      <td>3029278</td>\n",
       "      <td>0.30</td>\n",
       "      <td>12.92</td>\n",
       "      <td>6.58</td>\n",
       "      <td>27398.0</td>\n",
       "      <td>1350.0</td>\n",
       "      <td>110.565662</td>\n",
       "      <td>0.049274</td>\n",
       "    </tr>\n",
       "    <tr>\n",
       "      <th>2</th>\n",
       "      <td>Algeria</td>\n",
       "      <td>39542166</td>\n",
       "      <td>1.84</td>\n",
       "      <td>23.67</td>\n",
       "      <td>4.31</td>\n",
       "      <td>2381741.0</td>\n",
       "      <td>0.0</td>\n",
       "      <td>16.602211</td>\n",
       "      <td>0.000000</td>\n",
       "    </tr>\n",
       "    <tr>\n",
       "      <th>3</th>\n",
       "      <td>Andorra</td>\n",
       "      <td>85580</td>\n",
       "      <td>0.12</td>\n",
       "      <td>8.13</td>\n",
       "      <td>6.96</td>\n",
       "      <td>468.0</td>\n",
       "      <td>0.0</td>\n",
       "      <td>182.863248</td>\n",
       "      <td>0.000000</td>\n",
       "    </tr>\n",
       "    <tr>\n",
       "      <th>4</th>\n",
       "      <td>Angola</td>\n",
       "      <td>19625353</td>\n",
       "      <td>2.78</td>\n",
       "      <td>38.78</td>\n",
       "      <td>11.49</td>\n",
       "      <td>1246700.0</td>\n",
       "      <td>0.0</td>\n",
       "      <td>15.741841</td>\n",
       "      <td>0.000000</td>\n",
       "    </tr>\n",
       "  </tbody>\n",
       "</table>\n",
       "</div>"
      ],
      "text/plain": [
       "          name  population  population_growth  birth_rate  death_rate  \\\n",
       "0  Afghanistan    32564342               2.32       38.57       13.89   \n",
       "1      Albania     3029278               0.30       12.92        6.58   \n",
       "2      Algeria    39542166               1.84       23.67        4.31   \n",
       "3      Andorra       85580               0.12        8.13        6.96   \n",
       "4       Angola    19625353               2.78       38.78       11.49   \n",
       "\n",
       "   area_land  area_water     density  ratio_land_water  \n",
       "0   652230.0         0.0   49.927697          0.000000  \n",
       "1    27398.0      1350.0  110.565662          0.049274  \n",
       "2  2381741.0         0.0   16.602211          0.000000  \n",
       "3      468.0         0.0  182.863248          0.000000  \n",
       "4  1246700.0         0.0   15.741841          0.000000  "
      ]
     },
     "execution_count": 182,
     "metadata": {},
     "output_type": "execute_result"
    }
   ],
   "source": [
    "query5='select name, population, population_growth, birth_rate, death_rate, area_land, area_water from facts where (population>0 and population<7256490011);'\n",
    "reduced_table=conn.execute(query5).fetchall()\n",
    "reduced_table=pd.DataFrame(reduced_table)\n",
    "reduced_table.columns=['name','population', 'population_growth', 'birth_rate', 'death_rate', 'area_land', 'area_water']\n",
    "reduced_table['density']=reduced_table['population']/reduced_table['area_land']\n",
    "reduced_table['ratio_land_water']=reduced_table['area_water']/reduced_table['area_land']\n",
    "print(reduced_table.isnull().sum())\n",
    "reduced_table.head()"
   ]
  },
  {
   "cell_type": "code",
   "execution_count": 130,
   "metadata": {},
   "outputs": [
    {
     "name": "stderr",
     "output_type": "stream",
     "text": [
      "D:\\Anaconda\\lib\\site-packages\\numpy\\lib\\histograms.py:746: RuntimeWarning: invalid value encountered in greater_equal\n",
      "  keep = (tmp_a >= first_edge)\n",
      "D:\\Anaconda\\lib\\site-packages\\numpy\\lib\\histograms.py:747: RuntimeWarning: invalid value encountered in less_equal\n",
      "  keep &= (tmp_a <= last_edge)\n"
     ]
    },
    {
     "data": {
      "image/png": "[encoded data removed]",
      "text/plain": [
       "<Figure size 864x864 with 4 Axes>"
      ]
     },
     "metadata": {
      "needs_background": "light"
     },
     "output_type": "display_data"
    }
   ],
   "source": [
    "import matplotlib.pyplot as plt\n",
    "%matplotlib inline\n",
    "\n",
    "fig=plt.figure(figsize=(12,12))\n",
    "ax1=fig.add_subplot(2,2,1)\n",
    "ax1.hist(reduced_table['population'], range=(0, 2000000000))\n",
    "ax1.set_xlabel('Population (in billions)')\n",
    "ax1.set_ylabel('Counts')\n",
    "ax2=fig.add_subplot(2,2,2)\n",
    "ax2.hist(reduced_table['population_growth'], 20, range=(0.0,0.05))\n",
    "ax2.set_xlabel('Population Growth')\n",
    "ax3=fig.add_subplot(2,2,3)\n",
    "ax3.hist(reduced_table['birth_rate'], 20, range=(5,50))\n",
    "ax3.set_xlabel('Birth Rate')\n",
    "ax3.set_ylabel('Counts')\n",
    "ax4=fig.add_subplot(2,2,4)\n",
    "ax4.hist(reduced_table['death_rate'], 20, range=(0,15))\n",
    "ax4.set_xlabel('Death Rate')\n",
    "plt.show()\n",
    "\n",
    "\n"
   ]
  },
  {
   "cell_type": "code",
   "execution_count": null,
   "metadata": {},
   "outputs": [],
   "source": []
  },
  {
   "cell_type": "code",
   "execution_count": 144,
   "metadata": {},
   "outputs": [
    {
     "name": "stdout",
     "output_type": "stream",
     "text": [
      "Countries in the world having less than 10M inhabitants: 151, PERCENTAGE:63.0%\n",
      "Countries in the world having a population growth inferior to 1: 112, PERCENTAGE:47.0%\n",
      "Countries in the world having a population growth equal to 0: 4, PERCENTAGE:2.0%\n",
      "Countries in the world having a birth rate inferior to 10: 30, PERCENTAGE:12.0%\n",
      "Countries in the world having a death rate inferior to 10: 182, PERCENTAGE:76.0%\n"
     ]
    }
   ],
   "source": [
    "# Let's calculate the percentage of countries in the world having less than 10M inhabitants.\n",
    "\n",
    "query6='select population from facts where (population>0 and population<10000000);'\n",
    "less_ten=conn.execute(query6).fetchall()\n",
    "less_ten=pd.DataFrame(less_ten)\n",
    "proportion_inhab=less_ten.shape[0]/reduced_table.shape[0]\n",
    "proportion_inhab=round(proportion_inhab,2)\n",
    "\n",
    "# Let's calculate the percentage of countries in the world having having a population growt inferior to 1.\n",
    "query7='select population from facts where population_growth<1;'\n",
    "small_grow=conn.execute(query7).fetchall()\n",
    "small_grow=pd.DataFrame(small_grow)\n",
    "proportion_grow=small_grow.shape[0]/reduced_table.shape[0]\n",
    "proportion_grow=round(proportion_grow,2)\n",
    "\n",
    "# Let's calculate the percentage of countries in the world having having a population growt equal to 0.\n",
    "query10='select population from facts where population_growth=0;'\n",
    "no_growth=conn.execute(query10).fetchall()\n",
    "no_growth=pd.DataFrame(no_growth)\n",
    "proportion_nogrow=no_growth.shape[0]/reduced_table.shape[0]\n",
    "proportion_nogrow=round(proportion_nogrow,2)\n",
    "\n",
    "# Let's calculate the percentage of countries in the world having a birth rate inferior to 10.\n",
    "query8='select population from facts where birth_rate<10;'\n",
    "small_birth=conn.execute(query8).fetchall()\n",
    "small_birth=pd.DataFrame(small_birth)\n",
    "proportion_birth=small_birth.shape[0]/reduced_table.shape[0]\n",
    "proportion_birth=round(proportion_birth,2)\n",
    "\n",
    "# Let's calculate the percentage of countries in the world having a death rate inferior to 10.\n",
    "\n",
    "query9='select population from facts where death_rate<10;'\n",
    "small_death=conn.execute(query9).fetchall()\n",
    "small_death=pd.DataFrame(small_death)\n",
    "proportion_death=small_death.shape[0]/reduced_table.shape[0]\n",
    "proportion_death=round(proportion_death,2)\n",
    "\n",
    "print('Countries in the world having less than 10M inhabitants: {0}, PERCENTAGE:{1}%'.format(less_ten.shape[0], proportion_inhab*100))\n",
    "print('Countries in the world having a population growth inferior to 1: {0}, PERCENTAGE:{1}%'.format(small_grow.shape[0],proportion_grow*100))\n",
    "print('Countries in the world having a population growth equal to 0: {0}, PERCENTAGE:{1}%'.format(no_growth.shape[0],proportion_nogrow*100))\n",
    "print('Countries in the world having a birth rate inferior to 10: {0}, PERCENTAGE:{1}%'.format(small_birth.shape[0],proportion_birth*100))\n",
    "print('Countries in the world having a death rate inferior to 10: {0}, PERCENTAGE:{1}%'.format(small_death.shape[0],proportion_death*100))"
   ]
  },
  {
   "cell_type": "markdown",
   "metadata": {},
   "source": [
    "These histograms show that the vast majority of the countries of our planet (~63%) has a population inferior to 10M inhabitants while just two countries (China and India) have a population larger than 1 billion inhabitants.\n",
    "Taking into consideration the population growth it seems that almost half of the countries (~46%) have a growth inferior to 1, while those countries that have a null growth (which means that the number of births is pretty much equal to the number of deaths) are just 4 and represent  ~1.6%\n",
    "Finally only 12.5% of the countries has a birth rate inferior to 10 while again the majority of the countries (~76%) has a death rate inferior to 10. "
   ]
  },
  {
   "cell_type": "code",
   "execution_count": 82,
   "metadata": {},
   "outputs": [
    {
     "name": "stdout",
     "output_type": "stream",
     "text": [
      "The country with the highest density in the world (21168.964 people per square km) is Macau\n",
      "The country with the lowest density in the world (0.027 people per square km) is Greenland\n"
     ]
    }
   ],
   "source": [
    "#Calculating which country has the highest density\n",
    "\n",
    "query11='select name, ROUND(MAX(CAST(population AS FLOAT)/CAST(area_land AS FLOAT)),3) from facts;'\n",
    "max_dens=conn.execute(query11).fetchall()\n",
    "query12='select name, ROUND(MIN(CAST(population AS FLOAT)/CAST(area_land AS FLOAT)),3) from facts where population>0;'\n",
    "min_dens=conn.execute(query12).fetchall()\n",
    "print('The country with the highest density in the world ({0} people per square km) is {1}'.format(max_dens[0][1],max_dens[0][0]))\n",
    "print('The country with the lowest density in the world ({0} people per square km) is {1}'.format(min_dens[0][1],min_dens[0][0]))"
   ]
  },
  {
   "cell_type": "markdown",
   "metadata": {},
   "source": [
    "So basically Macau is the country with the highest density in the world (21168.964 people per square km) and Greenland is the country with the lowest density in the world (0.027 people per square km)."
   ]
  },
  {
   "cell_type": "code",
   "execution_count": 133,
   "metadata": {},
   "outputs": [
    {
     "data": {
      "image/png": "[encoded data removed]",
      "text/plain": [
       "<Figure size 432x288 with 1 Axes>"
      ]
     },
     "metadata": {
      "needs_background": "light"
     },
     "output_type": "display_data"
    },
    {
     "data": {
      "image/png": "[encoded data removed]",
      "text/plain": [
       "<Figure size 432x288 with 1 Axes>"
      ]
     },
     "metadata": {
      "needs_background": "light"
     },
     "output_type": "display_data"
    },
    {
     "data": {
      "image/png": "[encoded data removed]",
      "text/plain": [
       "<Figure size 432x288 with 1 Axes>"
      ]
     },
     "metadata": {
      "needs_background": "light"
     },
     "output_type": "display_data"
    },
    {
     "data": {
      "image/png": "[encoded data removed]",
      "text/plain": [
       "<Figure size 432x288 with 1 Axes>"
      ]
     },
     "metadata": {
      "needs_background": "light"
     },
     "output_type": "display_data"
    }
   ],
   "source": [
    "no_null=reduced_table.dropna()\n",
    "\n",
    "no_null.plot.hist(y='density',title='Population density (inhabitants per square km)', range=(0,2500))\n",
    "no_null.plot.hist(y='density',title='Population density (inhabitants per square km)', range=(0,1000))\n",
    "no_null.plot.hist(y='density',title='Population density (inhabitants per square km)', range=(0,500))\n",
    "no_null.plot.hist(y='density',title='Population density (inhabitants per square km)', range=(0,250))\n",
    "plt.show()\n"
   ]
  },
  {
   "cell_type": "code",
   "execution_count": 145,
   "metadata": {},
   "outputs": [
    {
     "name": "stdout",
     "output_type": "stream",
     "text": [
      "Countries in the world having a population density inferior to 100 inh/km^2: 123 Percentage:51.0%\n"
     ]
    }
   ],
   "source": [
    "#Calculating the percentage of countries with a density below 25 inh/km^2\n",
    "low_dens=no_null[no_null['density']<=100]\n",
    "proportion_lowdens=low_dens.shape[0]/reduced_table.shape[0]\n",
    "proportion_lowdens=round(proportion_lowdens,2)\n",
    "\n",
    "print('Countries in the world having a population density inferior to 100 inh/km^2: {} Percentage:{}%'.format(low_dens.shape[0],proportion_lowdens*100))"
   ]
  },
  {
   "cell_type": "markdown",
   "metadata": {},
   "source": [
    "So a little more than half of all the countries in the world (51%) have a population density inferior to 100 inhabitants per square kilometer. "
   ]
  },
  {
   "cell_type": "code",
   "execution_count": 212,
   "metadata": {},
   "outputs": [
    {
     "name": "stdout",
     "output_type": "stream",
     "text": [
      "The highest ratio water/land is: 4.520231213872832\n",
      "The country with the highest ratio water/land is: ['Virgin Islands']\n",
      "The lowest ratio water/land is: 0.0, which means no water, only land.\n",
      "The number of countries with the lowest ratio water/land is: 78, Percentage: 32.0%\n",
      "Countries with more water than land: ['Virgin Islands']\n"
     ]
    }
   ],
   "source": [
    "#The highest ratio water/land:\n",
    "print('The highest ratio water/land is: {0}'.format(reduced_table['ratio_land_water'].value_counts().index.values.max()))\n",
    "\n",
    "#The country that has the highest ratio is:\n",
    "country_high_ratio=reduced_table.loc[reduced_table['ratio_land_water']==reduced_table['ratio_land_water'].value_counts().index.values.max(), 'name']\n",
    "print('The country with the highest ratio water/land is: {0}'.format(country_high_ratio.values))\n",
    "\n",
    "#The lowest ratio water/land:\n",
    "print('The lowest ratio water/land is: {0}, which means no water, only land.'.format(reduced_table['ratio_land_water'].value_counts().index.values.min()))\n",
    "\n",
    "#Number of countries with the lowest ratio (0.0):\n",
    "null_ratio=reduced_table.loc[reduced_table['ratio_land_water']==reduced_table['ratio_land_water'].value_counts().index.values.min(), 'name']\n",
    "null_ratio.count()\n",
    "proportion_null_ratio=null_ratio.count()/reduced_table.shape[0]\n",
    "proportion_null_ratio=round(proportion_null_ratio,2)\n",
    "print('The number of countries with the lowest ratio water/land is: {0}, Percentage: {1}%'.format(null_ratio.count(),proportion_null_ratio*100))\n",
    "\n",
    "#Number of countries with more wather than land:\n",
    "more_water=reduced_table.loc[reduced_table['ratio_land_water']>1.0,'name']\n",
    "print('Countries with more water than land: {0}'.format(more_water.values))\n",
    "\n",
    "#query14='select name, area_water from facts where area_water=0.0;'\n",
    "#no_water=conn.execute(query14).fetchall()\n",
    "#no_water\n",
    "\n",
    "#reduced_table.plot.hist(y='ratio_land_water',range=(0,5))\n",
    "#plt.show()\n",
    "\n",
    "\n",
    "\n"
   ]
  },
  {
   "cell_type": "markdown",
   "metadata": {},
   "source": [
    "So apparently the country the has the highest ratio water on land is the Virgin Islands which has 4.5 times more water than land; this is also the only country which has more water than land. On the other hand there are 78 countries in the world, representing 32% of the 240 countries listed in our database, which have a null ratio. We must remember that the water area is the sum of the surfaces of all inland water bodies, such as lakes, reservoirs, or rivers. Territorial waters are not included."
   ]
  },
  {
   "cell_type": "code",
   "execution_count": null,
   "metadata": {},
   "outputs": [],
   "source": []
  }
 ],
 "metadata": {
  "kernelspec": {
   "display_name": "Python 3",
   "language": "python",
   "name": "python3"
  },
  "language_info": {
   "codemirror_mode": {
    "name": "ipython",
    "version": 3
   },
   "file_extension": ".py",
   "mimetype": "text/x-python",
   "name": "python",
   "nbconvert_exporter": "python",
   "pygments_lexer": "ipython3",
   "version": "3.7.0"
  }
 },
 "nbformat": 4,
 "nbformat_minor": 2
}
