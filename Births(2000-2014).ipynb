{
 "cells": [
  {
   "cell_type": "code",
   "execution_count": 1,
   "metadata": {},
   "outputs": [],
   "source": [
    "import pandas as pd"
   ]
  },
  {
   "cell_type": "code",
   "execution_count": 5,
   "metadata": {},
   "outputs": [],
   "source": [
    "births=pd.read_csv(\"US_births_2000-2014_SSA.csv\")\n"
   ]
  },
  {
   "cell_type": "code",
   "execution_count": 12,
   "metadata": {},
   "outputs": [],
   "source": [
    "births_2000=births.loc[births[\"year\"]==2000]\n",
    "births_2001=births.loc[births[\"year\"]==2001]\n",
    "births_2002=births.loc[births[\"year\"]==2002]\n",
    "births_2003=births.loc[births[\"year\"]==2003]\n",
    "births_2004=births.loc[births[\"year\"]==2004]\n",
    "births_2005=births.loc[births[\"year\"]==2005]\n",
    "births_2006=births.loc[births[\"year\"]==2006]\n",
    "births_2007=births.loc[births[\"year\"]==2007]\n",
    "births_2008=births.loc[births[\"year\"]==2008]\n",
    "births_2009=births.loc[births[\"year\"]==2009]\n",
    "births_2010=births.loc[births[\"year\"]==2010]\n",
    "births_2011=births.loc[births[\"year\"]==2011]\n",
    "births_2012=births.loc[births[\"year\"]==2012]\n",
    "births_2013=births.loc[births[\"year\"]==2013]\n",
    "births_2014=births.loc[births[\"year\"]==2014]"
   ]
  },
  {
   "cell_type": "code",
   "execution_count": 13,
   "metadata": {},
   "outputs": [
    {
     "name": "stdout",
     "output_type": "stream",
     "text": [
      "4149598 4110963\n"
     ]
    }
   ],
   "source": [
    "'''\n",
    "births_nr_00=births_2000[\"births\"].sum()\n",
    "births_nr_01=births_2001[\"births\"].sum()\n",
    "births_nr_02=births_2002[\"births\"].sum()\n",
    "births_nr_03=births_2003[\"births\"].sum()\n",
    "births_nr_04=births_2004[\"births\"].sum()\n",
    "births_nr_05=births_2005[\"births\"].sum()\n",
    "births_nr_06=births_2006[\"births\"].sum()\n",
    "births_nr_07=births_2007[\"births\"].sum()\n",
    "births_nr_08=births_2008[\"births\"].sum()\n",
    "births_nr_09=births_2009[\"births\"].sum()\n",
    "births_nr_10=births_2010[\"births\"].sum()\n",
    "births_nr_11=births_2011[\"births\"].sum()\n",
    "births_nr_12=births_2012[\"births\"].sum()\n",
    "births_nr_13=births_2013[\"births\"].sum()\n",
    "births_nr_14=births_2014[\"births\"].sum()\n",
    "\n",
    "print(births_nr_00, births_nr_01)\n",
    "'''"
   ]
  },
  {
   "cell_type": "code",
   "execution_count": 16,
   "metadata": {},
   "outputs": [
    {
     "name": "stdout",
     "output_type": "stream",
     "text": [
      "[2000 2001 2002 2003 2004 2005 2006 2007 2008 2009 2010 2011 2012 2013\n",
      " 2014]\n",
      "{2000: 4149598, 2001: 4110963, 2002: 4099313, 2003: 4163060, 2004: 4186863, 2005: 4211941, 2006: 4335154, 2007: 4380784, 2008: 4310737, 2009: 4190991, 2010: 4055975, 2011: 4006908, 2012: 4000868, 2013: 3973337, 2014: 4010532}\n"
     ]
    }
   ],
   "source": [
    "unique_years=births[\"year\"].unique()\n",
    "print(unique_years)\n",
    "year_dict={}\n",
    "for year in unique_years:\n",
    "    reduced_df=births.loc[births[\"year\"]==year]\n",
    "    births_nr=reduced_df[\"births\"].sum()\n",
    "    year_dict[year]=births_nr\n",
    "print(year_dict)"
   ]
  },
  {
   "cell_type": "code",
   "execution_count": 19,
   "metadata": {},
   "outputs": [],
   "source": [
    "births_serie=pd.Series(year_dict)\n",
    "births_per_year_df=pd.DataFrame(births_serie, columns=[\"births_nr\"])"
   ]
  },
  {
   "cell_type": "code",
   "execution_count": 20,
   "metadata": {},
   "outputs": [
    {
     "data": {
      "text/html": [
       "<div>\n",
       "<style scoped>\n",
       "    .dataframe tbody tr th:only-of-type {\n",
       "        vertical-align: middle;\n",
       "    }\n",
       "\n",
       "    .dataframe tbody tr th {\n",
       "        vertical-align: top;\n",
       "    }\n",
       "\n",
       "    .dataframe thead th {\n",
       "        text-align: right;\n",
       "    }\n",
       "</style>\n",
       "<table border=\"1\" class=\"dataframe\">\n",
       "  <thead>\n",
       "    <tr style=\"text-align: right;\">\n",
       "      <th></th>\n",
       "      <th>births_nr</th>\n",
       "    </tr>\n",
       "  </thead>\n",
       "  <tbody>\n",
       "    <tr>\n",
       "      <th>2000</th>\n",
       "      <td>4149598</td>\n",
       "    </tr>\n",
       "    <tr>\n",
       "      <th>2001</th>\n",
       "      <td>4110963</td>\n",
       "    </tr>\n",
       "    <tr>\n",
       "      <th>2002</th>\n",
       "      <td>4099313</td>\n",
       "    </tr>\n",
       "    <tr>\n",
       "      <th>2003</th>\n",
       "      <td>4163060</td>\n",
       "    </tr>\n",
       "    <tr>\n",
       "      <th>2004</th>\n",
       "      <td>4186863</td>\n",
       "    </tr>\n",
       "    <tr>\n",
       "      <th>2005</th>\n",
       "      <td>4211941</td>\n",
       "    </tr>\n",
       "    <tr>\n",
       "      <th>2006</th>\n",
       "      <td>4335154</td>\n",
       "    </tr>\n",
       "    <tr>\n",
       "      <th>2007</th>\n",
       "      <td>4380784</td>\n",
       "    </tr>\n",
       "    <tr>\n",
       "      <th>2008</th>\n",
       "      <td>4310737</td>\n",
       "    </tr>\n",
       "    <tr>\n",
       "      <th>2009</th>\n",
       "      <td>4190991</td>\n",
       "    </tr>\n",
       "    <tr>\n",
       "      <th>2010</th>\n",
       "      <td>4055975</td>\n",
       "    </tr>\n",
       "    <tr>\n",
       "      <th>2011</th>\n",
       "      <td>4006908</td>\n",
       "    </tr>\n",
       "    <tr>\n",
       "      <th>2012</th>\n",
       "      <td>4000868</td>\n",
       "    </tr>\n",
       "    <tr>\n",
       "      <th>2013</th>\n",
       "      <td>3973337</td>\n",
       "    </tr>\n",
       "    <tr>\n",
       "      <th>2014</th>\n",
       "      <td>4010532</td>\n",
       "    </tr>\n",
       "  </tbody>\n",
       "</table>\n",
       "</div>"
      ],
      "text/plain": [
       "      births_nr\n",
       "2000    4149598\n",
       "2001    4110963\n",
       "2002    4099313\n",
       "2003    4163060\n",
       "2004    4186863\n",
       "2005    4211941\n",
       "2006    4335154\n",
       "2007    4380784\n",
       "2008    4310737\n",
       "2009    4190991\n",
       "2010    4055975\n",
       "2011    4006908\n",
       "2012    4000868\n",
       "2013    3973337\n",
       "2014    4010532"
      ]
     },
     "execution_count": 20,
     "metadata": {},
     "output_type": "execute_result"
    }
   ],
   "source": [
    "births_per_year_df"
   ]
  },
  {
   "cell_type": "code",
   "execution_count": 21,
   "metadata": {},
   "outputs": [
    {
     "data": {
      "text/plain": [
       "'C:\\\\Users\\\\Bruno'"
      ]
     },
     "execution_count": 21,
     "metadata": {},
     "output_type": "execute_result"
    }
   ],
   "source": []
  },
  {
   "cell_type": "code",
   "execution_count": null,
   "metadata": {},
   "outputs": [],
   "source": []
  }
 ],
 "metadata": {
  "kernelspec": {
   "display_name": "Python 3",
   "language": "python",
   "name": "python3"
  },
  "language_info": {
   "codemirror_mode": {
    "name": "ipython",
    "version": 3
   },
   "file_extension": ".py",
   "mimetype": "text/x-python",
   "name": "python",
   "nbconvert_exporter": "python",
   "pygments_lexer": "ipython3",
   "version": "3.7.0"
  }
 },
 "nbformat": 4,
 "nbformat_minor": 2
}
