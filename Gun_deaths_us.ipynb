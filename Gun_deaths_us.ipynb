{
 "cells": [
  {
   "cell_type": "markdown",
   "metadata": {},
   "source": [
    "# This is my first attempt at analyzing datas, I wasn't experienced yet and that's why I mainly used lists and wrote long chapters of code"
   ]
  },
  {
   "cell_type": "markdown",
   "metadata": {},
   "source": [
    "Here I analyzed the datas of violent deaths in US from 2012 to 2014, trying to verify if there is a connection with the race of the people involved and with the type of death."
   ]
  },
  {
   "cell_type": "code",
   "execution_count": 2,
   "metadata": {
    "collapsed": false
   },
   "outputs": [],
   "source": [
    "# Reading the dataset\n",
    "\n",
    "import csv\n",
    "f=open(\"guns.csv\",\"r\")\n",
    "csv_reader=csv.reader(f)\n",
    "data=list(csv_reader)\n"
   ]
  },
  {
   "cell_type": "code",
   "execution_count": 3,
   "metadata": {
    "collapsed": false
   },
   "outputs": [
    {
     "name": "stdout",
     "output_type": "stream",
     "text": [
      "['', 'year', 'month', 'intent', 'police', 'sex', 'age', 'race', 'hispanic', 'place', 'education']\n",
      "[['1', '2012', '01', 'Suicide', '0', 'M', '34', 'Asian/Pacific Islander', '100', 'Home', '4'], ['2', '2012', '01', 'Suicide', '0', 'F', '21', 'White', '100', 'Street', '3'], ['3', '2012', '01', 'Suicide', '0', 'M', '60', 'White', '100', 'Other specified', '4'], ['4', '2012', '02', 'Suicide', '0', 'M', '64', 'White', '100', 'Home', '4'], ['5', '2012', '02', 'Suicide', '0', 'M', '31', 'White', '100', 'Other specified', '2']]\n"
     ]
    }
   ],
   "source": [
    "# Showing the first 5 rows\n",
    "\n",
    "headers=data[0]\n",
    "data_new=data[1:]\n",
    "print(headers)\n",
    "print(data_new[:5])"
   ]
  },
  {
   "cell_type": "code",
   "execution_count": 21,
   "metadata": {
    "collapsed": false
   },
   "outputs": [
    {
     "name": "stdout",
     "output_type": "stream",
     "text": [
      "{'2012': 33563, '2014': 33599, '2013': 33636}\n"
     ]
    }
   ],
   "source": [
    "# Counting the amounts of death per year\n",
    "\n",
    "year_counts={}\n",
    "for i in data_new:\n",
    "    year=i[1]\n",
    "    year_counts[year]=0\n",
    "for i in data_new:\n",
    "    year=i[1]\n",
    "    year_counts[year]+=1\n",
    "\n",
    "print(year_counts)"
   ]
  },
  {
   "cell_type": "code",
   "execution_count": 22,
   "metadata": {
    "collapsed": false
   },
   "outputs": [],
   "source": [
    "# Extracting the dates of every single event\n",
    "\n",
    "date=[]\n",
    "for num in data_new:\n",
    "    import datetime\n",
    "    anno=int(num[1])\n",
    "    mese=int(num[2])\n",
    "    dates=datetime.datetime(year=anno, month=mese, day=1)\n",
    "    date.append(dates)  \n",
    "   "
   ]
  },
  {
   "cell_type": "code",
   "execution_count": 23,
   "metadata": {
    "collapsed": false
   },
   "outputs": [
    {
     "name": "stdout",
     "output_type": "stream",
     "text": [
      "{'Jan12': 2758, 'Oct12': 2733, 'Nov12': 2729, 'Aug12': 2954, 'Jan14': 2651, 'Apr13': 2798, 'May13': 2806, 'May14': 2864, 'Jan13': 2864, 'Feb12': 2357, 'Oct14': 2865, 'Dec14': 2857, 'Sep13': 2742, 'Mar13': 2862, 'Aug14': 2970, 'Nov14': 2756, 'Jun12': 2826, 'Jul13': 3079, 'Dec12': 2791, 'Jul14': 2884, 'Sep12': 2852, 'Jun14': 2931, 'Sep14': 2914, 'Aug13': 2859, 'Nov13': 2758, 'Feb14': 2361, 'May12': 2999, 'Jul12': 3026, 'Apr12': 2795, 'Mar14': 2684, 'Jun13': 2920, 'Mar12': 2743, 'Oct13': 2808, 'Dec13': 2765, 'Feb13': 2375, 'Apr14': 2862}\n",
      "total by month: 100798\n"
     ]
    }
   ],
   "source": [
    "# Counting how many deaths per month have happened\n",
    "\n",
    "date_counts={}\n",
    "\n",
    "jan12=0\n",
    "feb12=0\n",
    "mar12=0\n",
    "apr12=0\n",
    "may12=0\n",
    "jun12=0\n",
    "jul12=0\n",
    "aug12=0\n",
    "sep12=0\n",
    "oct12=0\n",
    "nov12=0\n",
    "dec12=0\n",
    "jan13=0\n",
    "feb13=0\n",
    "mar13=0\n",
    "apr13=0\n",
    "may13=0\n",
    "jun13=0\n",
    "jul13=0\n",
    "aug13=0\n",
    "sep13=0\n",
    "oct13=0\n",
    "nov13=0\n",
    "dec13=0\n",
    "jan14=0\n",
    "feb14=0\n",
    "mar14=0\n",
    "apr14=0\n",
    "may14=0\n",
    "jun14=0\n",
    "jul14=0\n",
    "aug14=0\n",
    "sep14=0\n",
    "oct14=0\n",
    "nov14=0\n",
    "dec14=0\n",
    "for elem in date:\n",
    "    if elem.year==2012 and elem.month==1:\n",
    "        jan12+=1\n",
    "        date_counts[\"Jan12\"]=jan12\n",
    "    if elem.year==2012 and elem.month==2:\n",
    "        feb12+=1\n",
    "        date_counts[\"Feb12\"]=feb12\n",
    "    if elem.year==2012 and elem.month==3:\n",
    "        mar12+=1\n",
    "        date_counts[\"Mar12\"]=mar12\n",
    "    if elem.year==2012 and elem.month==4:\n",
    "        apr12+=1\n",
    "        date_counts[\"Apr12\"]=apr12\n",
    "    if elem.year==2012 and elem.month==5:\n",
    "        may12+=1\n",
    "        date_counts[\"May12\"]=may12\n",
    "    if elem.year==2012 and elem.month==6:\n",
    "        jun12+=1\n",
    "        date_counts[\"Jun12\"]=jun12\n",
    "    if elem.year==2012 and elem.month==7:\n",
    "        jul12+=1\n",
    "        date_counts[\"Jul12\"]=jul12\n",
    "    if elem.year==2012 and elem.month==8:\n",
    "        aug12+=1\n",
    "        date_counts[\"Aug12\"]=aug12\n",
    "    if elem.year==2012 and elem.month==9:\n",
    "        sep12+=1\n",
    "        date_counts[\"Sep12\"]=sep12\n",
    "    if elem.year==2012 and elem.month==10:\n",
    "        oct12+=1\n",
    "        date_counts[\"Oct12\"]=oct12\n",
    "    if elem.year==2012 and elem.month==11:\n",
    "        nov12+=1\n",
    "        date_counts[\"Nov12\"]=nov12\n",
    "    if elem.year==2012 and elem.month==12:\n",
    "        dec12+=1\n",
    "        date_counts[\"Dec12\"]=dec12\n",
    "        \n",
    "    if elem.year==2013 and elem.month==1:\n",
    "        jan13+=1\n",
    "        date_counts[\"Jan13\"]=jan13\n",
    "    if elem.year==2013 and elem.month==2:\n",
    "        feb13+=1\n",
    "        date_counts[\"Feb13\"]=feb13\n",
    "    if elem.year==2013 and elem.month==3:\n",
    "        mar13+=1\n",
    "        date_counts[\"Mar13\"]=mar13\n",
    "    if elem.year==2013 and elem.month==4:\n",
    "        apr13+=1\n",
    "        date_counts[\"Apr13\"]=apr13\n",
    "    if elem.year==2013 and elem.month==5:\n",
    "        may13+=1\n",
    "        date_counts[\"May13\"]=may13\n",
    "    if elem.year==2013 and elem.month==6:\n",
    "        jun13+=1\n",
    "        date_counts[\"Jun13\"]=jun13\n",
    "    if elem.year==2013 and elem.month==7:\n",
    "        jul13+=1\n",
    "        date_counts[\"Jul13\"]=jul13\n",
    "    if elem.year==2013 and elem.month==8:\n",
    "        aug13+=1\n",
    "        date_counts[\"Aug13\"]=aug13\n",
    "    if elem.year==2013 and elem.month==9:\n",
    "        sep13+=1\n",
    "        date_counts[\"Sep13\"]=sep13\n",
    "    if elem.year==2013 and elem.month==10:\n",
    "        oct13+=1\n",
    "        date_counts[\"Oct13\"]=oct13\n",
    "    if elem.year==2013 and elem.month==11:\n",
    "        nov13+=1\n",
    "        date_counts[\"Nov13\"]=nov13\n",
    "    if elem.year==2013 and elem.month==12:\n",
    "        dec13+=1\n",
    "        date_counts[\"Dec13\"]=dec13  \n",
    "        \n",
    "    if elem.year==2014 and elem.month==1:\n",
    "        jan14+=1\n",
    "        date_counts[\"Jan14\"]=jan14\n",
    "    if elem.year==2014 and elem.month==2:\n",
    "        feb14+=1\n",
    "        date_counts[\"Feb14\"]=feb14\n",
    "    if elem.year==2014 and elem.month==3:\n",
    "        mar14+=1\n",
    "        date_counts[\"Mar14\"]=mar14\n",
    "    if elem.year==2014 and elem.month==4:\n",
    "        apr14+=1\n",
    "        date_counts[\"Apr14\"]=apr14\n",
    "    if elem.year==2014 and elem.month==5:\n",
    "        may14+=1\n",
    "        date_counts[\"May14\"]=may14\n",
    "    if elem.year==2014 and elem.month==6:\n",
    "        jun14+=1\n",
    "        date_counts[\"Jun14\"]=jun14\n",
    "    if elem.year==2014 and elem.month==7:\n",
    "        jul14+=1\n",
    "        date_counts[\"Jul14\"]=jul14\n",
    "    if elem.year==2014 and elem.month==8:\n",
    "        aug14+=1\n",
    "        date_counts[\"Aug14\"]=aug14\n",
    "    if elem.year==2014 and elem.month==9:\n",
    "        sep14+=1\n",
    "        date_counts[\"Sep14\"]=sep14\n",
    "    if elem.year==2014 and elem.month==10:\n",
    "        oct14+=1\n",
    "        date_counts[\"Oct14\"]=oct14\n",
    "    if elem.year==2014 and elem.month==11:\n",
    "        nov14+=1\n",
    "        date_counts[\"Nov14\"]=nov14\n",
    "    if elem.year==2014 and elem.month==12:\n",
    "        dec14+=1\n",
    "        date_counts[\"Dec14\"]=dec14\n",
    "        \n",
    "print(date_counts) \n",
    "sum_months=jan12+feb12+mar12+apr12+may12+jun12+jul12+aug12+sep12+oct12+nov12+dec12+jan13+feb13+mar13+apr13+may13+jun13+jul13+aug13+sep13+oct13+nov13+dec13+jan14+feb14+mar14+apr14+may14+jun14+jul14+aug14+sep14+oct14+nov14+dec14\n",
    "print(\"total by month:\",sum_months)"
   ]
  },
  {
   "cell_type": "code",
   "execution_count": 24,
   "metadata": {
    "collapsed": false
   },
   "outputs": [
    {
     "name": "stdout",
     "output_type": "stream",
     "text": [
      "{'F': 14449, 'M': 86349}\n",
      "{'Hispanic': 9022, 'White': 66237, 'Native_American_Native_Alaskan': 917, 'Black': 23296, 'Asian_Pacific_Islander': 1326}\n",
      "total by gender: 100798\n",
      "total by race: 100798\n"
     ]
    }
   ],
   "source": [
    "# Counting how many deaths by gender and race have happened\n",
    "\n",
    "sex_counts={}\n",
    "race_counts={}\n",
    "M=0\n",
    "F=0\n",
    "Black=0\n",
    "White=0\n",
    "Asian_Pacific_Islander=0\n",
    "Native_American_Native_Alaskan=0\n",
    "Hispanic=0\n",
    "races=[]\n",
    "for c in data_new:\n",
    "    if c[5]==\"M\":\n",
    "        M+=1\n",
    "        sex_counts[\"M\"]=M\n",
    "    if c[5]==\"F\":\n",
    "        F+=1\n",
    "        sex_counts[\"F\"]=F\n",
    "    if c[7]==\"Black\":\n",
    "        Black+=1\n",
    "        race_counts[\"Black\"]=Black\n",
    "    if c[7]==\"White\":\n",
    "        White+=1\n",
    "        race_counts[\"White\"]=White\n",
    "    if c[7]==\"Asian/Pacific Islander\":\n",
    "        Asian_Pacific_Islander+=1\n",
    "        race_counts[\"Asian_Pacific_Islander\"]=Asian_Pacific_Islander\n",
    "    if c[7]==\"Native American/Native Alaskan\":\n",
    "        Native_American_Native_Alaskan+=1\n",
    "        race_counts[\"Native_American_Native_Alaskan\"]=Native_American_Native_Alaskan\n",
    "    if c[7]==\"Hispanic\":\n",
    "        Hispanic+=1\n",
    "        race_counts[\"Hispanic\"]=Hispanic\n",
    "        \n",
    "print(sex_counts)\n",
    "print(race_counts)\n",
    "print(\"total by gender:\", M+F)\n",
    "print(\"total by race:\", Black+White+Hispanic+Asian_Pacific_Islander+Native_American_Native_Alaskan)\n",
    "\n",
    "        \n",
    "        "
   ]
  },
  {
   "cell_type": "markdown",
   "metadata": {},
   "source": [
    "The total amount of deaths between the years 2012-2014 is 100798.\n",
    "Analysing the numbers month-wise,there seems to be a common trend showing that the peak of crime rates was reached during the month of July (exceeding the 3000 units) both in 2012 and in 2013.\n",
    "Gender-wise the vast majority of crimes has been committed by men (86349(m) against 14449(f)).\n",
    "Race-wise the \"leading\" ethnicity is the Caucasian/White with a total amount of 66237 committed crimes. Less than half of those crimes were committed by Black people (23296) who are followed, in this special chart, by the Hispanics having committed less than 10000 crimes (9022). Lastly we find the Asian/Pacific Islanders (1326) and the Native American/Native Alaskan with just 917 crimes in a three years span of time.\n",
    "\n",
    "\n",
    "Now we will compare the results we found with the Census of the population in US."
   ]
  },
  {
   "cell_type": "code",
   "execution_count": 25,
   "metadata": {
    "collapsed": false
   },
   "outputs": [
    {
     "name": "stdout",
     "output_type": "stream",
     "text": [
      "['cen42010', 'April 1, 2010 Census', 'totsex', 'Both Sexes', 'tothisp', 'Total', '0100000US', '', 'United States', '308745538', '197318956', '44618105', '40250635', '3739506', '15159516', '674625', '6984195']\n"
     ]
    }
   ],
   "source": [
    "g=open(\"census.csv\",\"r\")\n",
    "csv_reader_census=csv.reader(g)\n",
    "census=list(csv_reader_census)\n",
    "census=census[1]\n",
    "print(census)"
   ]
  },
  {
   "cell_type": "code",
   "execution_count": 26,
   "metadata": {
    "collapsed": false
   },
   "outputs": [
    {
     "name": "stdout",
     "output_type": "stream",
     "text": [
      "{'Hispanic': 44618105, 'White': 197318956, 'Native_American_Native_Alaskan': 3739506, 'Black': 40250635, 'Asian_Pacific_Islander': 15834141}\n"
     ]
    }
   ],
   "source": [
    "# Counting the total population of the single races in US\n",
    "\n",
    "mapping={}\n",
    "mapping=race_counts\n",
    "mapping[\"Asian_Pacific_Islander\"]=int(census[15])+int(census[14])\n",
    "mapping[\"Native_American_Native_Alaskan\"]=int(census[13])\n",
    "mapping[\"White\"]=int(census[10])\n",
    "mapping[\"Black\"]=int(census[12])\n",
    "mapping[\"Hispanic\"]=int(census[11])\n",
    "print(mapping)\n",
    "race_per_hundredk={}"
   ]
  },
  {
   "cell_type": "code",
   "execution_count": 27,
   "metadata": {
    "collapsed": false
   },
   "outputs": [
    {
     "name": "stdout",
     "output_type": "stream",
     "text": [
      "{'Hispanic': 20.220491210910907, 'White': 33.56849303419181, 'Native_American_Native_Alaskan': 24.521955573811088, 'Black': 57.8773477735196, 'Asian_Pacific_Islander': 8.374309664161762}\n"
     ]
    }
   ],
   "source": [
    "# Calculating the death rate per 100k people\n",
    "\n",
    "race_per_hundredk[\"White\"]=(White/int(census[10]))*100000\n",
    "race_per_hundredk[\"Black\"]=(Black/int(census[12]))*100000\n",
    "race_per_hundredk[\"Hispanic\"]=(Hispanic/int(census[11]))*100000\n",
    "race_per_hundredk[\"Asian_Pacific_Islander\"]=(Asian_Pacific_Islander/(int(census[15])+int(census[14])))*100000\n",
    "race_per_hundredk[\"Native_American_Native_Alaskan\"]=(Native_American_Native_Alaskan/int(census[13]))*100000\n",
    "print(race_per_hundredk)"
   ]
  },
  {
   "cell_type": "markdown",
   "metadata": {},
   "source": [
    "So the rates for deaths by guns in US per a hundred thousand people is 57.87 for black people, 24.52 for native americans, 33.56 for white people, 8.37 for asian and pacific islanders and 20.22 for hispanics"
   ]
  },
  {
   "cell_type": "code",
   "execution_count": 35,
   "metadata": {
    "collapsed": false
   },
   "outputs": [
    {
     "name": "stdout",
     "output_type": "stream",
     "text": [
      "{'Hispanic': 5634, 'White': 9147, 'Asian_Pacific_Islander': 559, 'Black': 19510, 'Native_American_Native_Alaskan': 326}\n",
      "total homicides: 35176\n"
     ]
    }
   ],
   "source": [
    "# Repeating the same analysis just for homicides\n",
    "\n",
    "homicide_race_counts={}\n",
    "homicide_race_counts[\"White\"]=0\n",
    "homicide_race_counts[\"Black\"]=0\n",
    "homicide_race_counts[\"Hispanic\"]=0\n",
    "homicide_race_counts[\"Native_American_Native_Alaskan\"]=0\n",
    "homicide_race_counts[\"Asian_Pacific_Islander\"]=0\n",
    "for h in data_new:\n",
    "    if h[7]==\"White\" and h[3]==\"Homicide\":\n",
    "        homicide_race_counts[\"White\"]+=1\n",
    "for h in data_new:\n",
    "    if h[7]==\"Black\" and h[3]==\"Homicide\":\n",
    "        homicide_race_counts[\"Black\"]+=1\n",
    "for h in data_new:\n",
    "    if h[7]==\"Hispanic\" and h[3]==\"Homicide\":\n",
    "        homicide_race_counts[\"Hispanic\"]+=1\n",
    "for h in data_new:\n",
    "    if h[7]==\"Asian/Pacific Islander\" and h[3]==\"Homicide\":\n",
    "        homicide_race_counts[\"Asian_Pacific_Islander\"]+=1\n",
    "for h in data_new:\n",
    "    if h[7]==\"Native American/Native Alaskan\" and h[3]==\"Homicide\":\n",
    "        homicide_race_counts[\"Native_American_Native_Alaskan\"]+=1\n",
    "        \n",
    "print(homicide_race_counts)\n",
    "print(\"total homicides:\", (homicide_race_counts[\"White\"]+homicide_race_counts[\"Black\"]+homicide_race_counts[\"Hispanic\"]+homicide_race_counts[\"Native_American_Native_Alaskan\"]+homicide_race_counts[\"Asian_Pacific_Islander\"]))"
   ]
  },
  {
   "cell_type": "markdown",
   "metadata": {},
   "source": [
    "So considering just the murders happened between 2012 and 2014, the race who committed most of them is the black race with a total amount of 19510, followed by the white race with 9147 (less than half of the murders made by black people). Hispanic's homicide rates is even lower (5634) and finally the Asian/Pacific Islander community and the Native American/Alaskan one have a similar total amount, respectively 559 and 326."
   ]
  },
  {
   "cell_type": "code",
   "execution_count": 36,
   "metadata": {
    "collapsed": false
   },
   "outputs": [
    {
     "name": "stdout",
     "output_type": "stream",
     "text": [
      "{'Nov': 2919, 'Feb': 2178, 'Apr': 2845, 'Oct': 2968, 'Jun': 3130, 'Jul': 3269, 'Mar': 2780, 'May': 2976, 'Sep': 2966, 'Dec': 3191, 'Jan': 2829, 'Aug': 3125}\n",
      "total homicides: 35176\n"
     ]
    }
   ],
   "source": [
    "# Calculating the homicide rate per month \n",
    "\n",
    "h_jan=0\n",
    "h_feb=0\n",
    "h_mar=0\n",
    "h_apr=0\n",
    "h_may=0\n",
    "h_jun=0\n",
    "h_jul=0\n",
    "h_aug=0\n",
    "h_sep=0\n",
    "h_oct=0\n",
    "h_nov=0\n",
    "h_dec=0\n",
    "homicide_per_month={}\n",
    "for b in data_new:\n",
    "    if b[2]==\"01\" and b[3]==\"Homicide\":\n",
    "        h_jan+=1\n",
    "        homicide_per_month[\"Jan\"]=h_jan\n",
    "    if b[2]==\"02\" and b[3]==\"Homicide\":\n",
    "        h_feb+=1\n",
    "        homicide_per_month[\"Feb\"]=h_feb\n",
    "    if b[2]==\"03\" and b[3]==\"Homicide\":\n",
    "        h_mar+=1\n",
    "        homicide_per_month[\"Mar\"]=h_mar\n",
    "    if b[2]==\"04\" and b[3]==\"Homicide\":\n",
    "        h_apr+=1\n",
    "        homicide_per_month[\"Apr\"]=h_apr\n",
    "    if b[2]==\"05\" and b[3]==\"Homicide\":\n",
    "        h_may+=1\n",
    "        homicide_per_month[\"May\"]=h_may\n",
    "    if b[2]==\"06\" and b[3]==\"Homicide\":\n",
    "        h_jun+=1\n",
    "        homicide_per_month[\"Jun\"]=h_jun\n",
    "    if b[2]==\"07\" and b[3]==\"Homicide\":\n",
    "        h_jul+=1\n",
    "        homicide_per_month[\"Jul\"]=h_jul\n",
    "    if b[2]==\"08\" and b[3]==\"Homicide\":\n",
    "        h_aug+=1\n",
    "        homicide_per_month[\"Aug\"]=h_aug\n",
    "    if b[2]==\"09\" and b[3]==\"Homicide\":\n",
    "        h_sep+=1\n",
    "        homicide_per_month[\"Sep\"]=h_sep\n",
    "    if b[2]==\"10\" and b[3]==\"Homicide\":\n",
    "        h_oct+=1\n",
    "        homicide_per_month[\"Oct\"]=h_oct\n",
    "    if b[2]==\"11\" and b[3]==\"Homicide\":\n",
    "        h_nov+=1\n",
    "        homicide_per_month[\"Nov\"]=h_nov\n",
    "    if b[2]==\"12\" and b[3]==\"Homicide\":\n",
    "        h_dec+=1\n",
    "        homicide_per_month[\"Dec\"]=h_dec\n",
    "print(homicide_per_month)\n",
    "print(\"total homicides:\", (h_jan+h_feb+h_mar+h_apr+h_may+h_jun+h_jul+h_aug+h_sep+h_oct+h_nov+h_dec))"
   ]
  },
  {
   "cell_type": "markdown",
   "metadata": {},
   "source": [
    "As observed before the homicide rates throughout a year appears to be obscillating but it shows a pretty clear peak in July (3269), it is followed by December (3191), June (3130) and August (3125). Which means that basically homicides happen during the summer or christmas holidays. When people are together conflicts tend to rise and homicides occurr."
   ]
  },
  {
   "cell_type": "code",
   "execution_count": 40,
   "metadata": {
    "collapsed": false
   },
   "outputs": [
    {
     "name": "stdout",
     "output_type": "stream",
     "text": [
      "{'F': 5373, 'M': 29803}\n",
      "total homicides: 35176\n"
     ]
    }
   ],
   "source": [
    "# Calculating the homicide rate per gender\n",
    "\n",
    "h_m=0\n",
    "h_f=0\n",
    "homicide_per_gender={}\n",
    "for d in data_new:\n",
    "    if d[5]==\"M\" and d[3]==\"Homicide\":\n",
    "        h_m+=1\n",
    "        homicide_per_gender[\"M\"]=h_m\n",
    "    if d[5]==\"F\" and d[3]==\"Homicide\":\n",
    "        h_f+=1\n",
    "        homicide_per_gender[\"F\"]=h_f\n",
    "print(homicide_per_gender)\n",
    "print(\"total homicides:\", (h_m+h_f))"
   ]
  },
  {
   "cell_type": "markdown",
   "metadata": {},
   "source": [
    "So the vast majority of the murderers are men with a total amount being almost six times the number of homicides committed by women: 29803 vs 5373."
   ]
  },
  {
   "cell_type": "code",
   "execution_count": 43,
   "metadata": {
    "collapsed": false
   },
   "outputs": [
    {
     "name": "stdout",
     "output_type": "stream",
     "text": [
      "{'F': 218, 'M': 1421} 1639\n",
      "{'Hispanic': 145, 'White': 1132, 'Asian/Pacific Islander': 12, 'Black': 328, 'Native American/Native Alaskan': 22} 1639\n"
     ]
    }
   ],
   "source": [
    "# Repeating the same analysis just for accidents\n",
    "\n",
    "acc_gender={}\n",
    "acc_race={}\n",
    "acc_m=0\n",
    "acc_f=0\n",
    "acc_wh=0\n",
    "acc_bl=0\n",
    "acc_as=0\n",
    "acc_his=0\n",
    "acc_nat=0\n",
    "for r in data_new:\n",
    "    if r[3]==\"Accidental\" and r[5]==\"M\":\n",
    "        acc_m+=1\n",
    "        acc_gender[\"M\"]=acc_m\n",
    "    if r[3]==\"Accidental\" and r[5]==\"F\":\n",
    "        acc_f+=1\n",
    "        acc_gender[\"F\"]=acc_f\n",
    "    if r[3]==\"Accidental\" and r[7]==\"White\":\n",
    "        acc_wh+=1\n",
    "        acc_race[\"White\"]=acc_wh\n",
    "    if r[3]==\"Accidental\" and r[7]==\"Black\":\n",
    "        acc_bl+=1\n",
    "        acc_race[\"Black\"]=acc_bl\n",
    "    if r[3]==\"Accidental\" and r[7]==\"Hispanic\":\n",
    "        acc_his+=1\n",
    "        acc_race[\"Hispanic\"]=acc_his\n",
    "    if r[3]==\"Accidental\" and r[7]==\"Asian/Pacific Islander\":\n",
    "        acc_as+=1\n",
    "        acc_race[\"Asian/Pacific Islander\"]=acc_as\n",
    "    if r[3]==\"Accidental\" and r[7]==\"Native American/Native Alaskan\":\n",
    "        acc_nat+=1\n",
    "        acc_race[\"Native American/Native Alaskan\"]=acc_nat\n",
    "print(acc_gender, acc_m+acc_f)\n",
    "print(acc_race, acc_wh+acc_bl+acc_as+acc_his+acc_nat)"
   ]
  },
  {
   "cell_type": "markdown",
   "metadata": {},
   "source": [
    "As it happens for homicides, even when talking about accidental deaths the number of male victims is almost 7 times bigger than the female victims ones (1421 vs 218)."
   ]
  },
  {
   "cell_type": "markdown",
   "metadata": {},
   "source": [
    "Moreover, race-wise, we can state that people killed by accidental events are mostly whites (1132). Their number is 4 times bigger than the blacks' one (328). Then we find the hispanics (145). The remaining two communities (Asian/Pacific Islanders and Native American/Alaskan) have very low numbers, respectively 12 and 22."
   ]
  },
  {
   "cell_type": "code",
   "execution_count": 46,
   "metadata": {
    "collapsed": false
   },
   "outputs": [
    {
     "name": "stdout",
     "output_type": "stream",
     "text": [
      "{'Home', 'School/instiution', 'Other unspecified', 'Trade/service area', 'Other specified', 'Sports', 'Industrial/construction', 'Street', 'Residential institution', 'NA', 'Farm'}\n",
      "{'1', '4', '5', '3', '2', 'NA'}\n"
     ]
    }
   ],
   "source": [
    "# Repeating the analysis with respect to the place of the murder and the education of the murderer\n",
    "\n",
    "place=[]\n",
    "education=[]\n",
    "for z in data_new:\n",
    "    place.append(z[9])\n",
    "    education.append(z[10])\n",
    "    \n",
    "print(set(place))\n",
    "print(set(education))"
   ]
  },
  {
   "cell_type": "code",
   "execution_count": 4,
   "metadata": {
    "collapsed": false
   },
   "outputs": [
    {
     "name": "stdout",
     "output_type": "stream",
     "text": [
      "{'Other unspecified': 8867, 'Home': 60486, 'Industrial/construction': 248, 'Street': 11151, 'Trade/service area': 3439, 'NA': 1384, 'Sports': 128, 'Residential institution': 203, 'Other specified': 13751, 'Farm': 470, 'School/instiution': 671}\n",
      "{'3': 21680, '1': 21823, 'NA': 53, '2': 21680, '4': 12946, '5': 1369}\n"
     ]
    }
   ],
   "source": [
    "deaths_loc={}\n",
    "deaths_edu={}\n",
    "loc_ho=0\n",
    "loc_sc=0\n",
    "loc_ot=0\n",
    "loc_tr=0\n",
    "loc_otsp=0\n",
    "loc_sp=0\n",
    "loc_ind=0\n",
    "loc_st=0\n",
    "loc_res=0\n",
    "loc_na=0\n",
    "loc_fa=0\n",
    "edu_1=0\n",
    "edu_2=0\n",
    "edu_3=0\n",
    "edu_4=0\n",
    "edu_5=0\n",
    "edu_na=0\n",
    "for t in data_new:\n",
    "    if t[9]=='Home':\n",
    "        loc_ho+=1\n",
    "        deaths_loc['Home']=loc_ho\n",
    "    if t[9]=='School/instiution':\n",
    "        loc_sc+=1\n",
    "        deaths_loc['School/instiution']=loc_sc\n",
    "    if t[9]=='Other unspecified':\n",
    "        loc_ot+=1\n",
    "        deaths_loc['Other unspecified']=loc_ot\n",
    "    if t[9]=='Trade/service area':\n",
    "        loc_tr+=1\n",
    "        deaths_loc['Trade/service area']=loc_tr\n",
    "    if t[9]=='Other specified':\n",
    "        loc_otsp+=1\n",
    "        deaths_loc['Other specified']=loc_otsp\n",
    "    if t[9]=='Sports':\n",
    "        loc_sp+=1\n",
    "        deaths_loc['Sports']=loc_sp\n",
    "    if t[9]=='Industrial/construction':\n",
    "        loc_ind+=1\n",
    "        deaths_loc['Industrial/construction']=loc_ind\n",
    "    if t[9]=='Street':\n",
    "        loc_st+=1\n",
    "        deaths_loc['Street']=loc_st\n",
    "    if t[9]=='Residential institution':\n",
    "        loc_res+=1\n",
    "        deaths_loc['Residential institution']=loc_res\n",
    "    if t[9]=='NA':\n",
    "        loc_na+=1\n",
    "        deaths_loc['NA']=loc_na\n",
    "    if t[9]=='Farm':\n",
    "        loc_fa+=1\n",
    "        deaths_loc['Farm']=loc_fa\n",
    "    if t[10]==\"1\":\n",
    "        edu_1+=1\n",
    "        deaths_edu[\"1\"]=edu_1\n",
    "    if t[10]==\"2\":\n",
    "        edu_2+=1\n",
    "        deaths_edu[\"2\"]=edu_3\n",
    "    if t[10]==\"3\":\n",
    "        edu_3+=1\n",
    "        deaths_edu[\"3\"]=edu_3\n",
    "    if t[10]==\"4\":\n",
    "        edu_4+=1\n",
    "        deaths_edu[\"4\"]=edu_4\n",
    "    if t[10]==\"5\":\n",
    "        edu_5+=1\n",
    "        deaths_edu[\"5\"]=edu_5\n",
    "    if t[10]==\"NA\":\n",
    "        edu_na+=1\n",
    "        deaths_edu[\"NA\"]=edu_na\n",
    "        \n",
    "print(deaths_loc)\n",
    "print(deaths_edu)"
   ]
  },
  {
   "cell_type": "markdown",
   "metadata": {},
   "source": [
    "So basically the vast majority of the gun deaths happens at home. Approximately 60% of the total(60486 on 100798).\n",
    "Moreover it seems that those deaths are equally distributed among the people with a Less than high school, high school or some college education. People graduated from college tend not to be victims "
   ]
  }
 ],
 "metadata": {
  "kernelspec": {
   "display_name": "Python 3",
   "language": "python",
   "name": "python3"
  },
  "language_info": {
   "codemirror_mode": {
    "name": "ipython",
    "version": 3
   },
   "file_extension": ".py",
   "mimetype": "text/x-python",
   "name": "python",
   "nbconvert_exporter": "python",
   "pygments_lexer": "ipython3",
   "version": "3.7.0"
  }
 },
 "nbformat": 4,
 "nbformat_minor": 2
}
